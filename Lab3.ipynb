{
 "cells": [
  {
   "cell_type": "markdown",
   "id": "c67569ec-adb4-4606-b89f-4d53176f421a",
   "metadata": {},
   "source": [
    "1. Загрузити файл з даними про споживання енергії “En_In.xls”, який являє\n",
    "собою перелік показників енергозабезпечення та виробництва відновлюваної\n",
    "електроенергії, і ввести їх в DataFrame."
   ]
  },
  {
   "cell_type": "code",
   "execution_count": 2,
   "id": "03c74600-31d0-492a-8e57-56d58947b8a3",
   "metadata": {},
   "outputs": [
    {
     "name": "stdout",
     "output_type": "stream",
     "text": [
      "                          Energy Supply Energy Supply per Capita  % Renewable\n",
      "Country                                                                      \n",
      "Afghanistan                         321                       10        78.67\n",
      "Albania                             102                       35       100.00\n",
      "Algeria                            1959                       51         0.55\n",
      "American Samoa                      ...                      ...         0.64\n",
      "Andorra                               9                      121        88.70\n",
      "...                                 ...                      ...          ...\n",
      "Viet Nam                           2554                       28        45.32\n",
      "Wallis and Futuna Islands             0                       26         0.00\n",
      "Yemen                               344                       13         0.00\n",
      "Zambia                              400                       26        99.71\n",
      "Zimbabwe                            480                       32        52.54\n",
      "\n",
      "[227 rows x 3 columns]\n"
     ]
    }
   ],
   "source": [
    "import pandas as pd\n",
    "import numpy as np\n",
    "import matplotlib.pyplot as plt\n",
    "import seaborn as sns\n",
    "\n",
    "pd.set_option('display.float_format', '{:.2f}'.format)\n",
    "\n",
    "energy_table = pd.read_excel('En_In.xls', skiprows=17, skipfooter=38, usecols=[2, 3, 4, 5], names=['Country', 'Energy Supply', 'Energy Supply per Capita', '% Renewable'])\n",
    "energy_table.set_index('Country', inplace=True)\n",
    "print(energy_table)"
   ]
  },
  {
   "cell_type": "markdown",
   "id": "e17429e5-ba98-4692-b0cb-7447cbebd886",
   "metadata": {},
   "source": [
    "2. Переведіть дані із стовпчику ‘Energy Supply’ в гДж (Примітка: в 1ПДж\n",
    "= 1000000 ГДж). Для всіх країн, у яких відсутні дані (наприклад, дані з\n",
    "\".....\"), переконайтеся, що це відображається як значення np.NaN."
   ]
  },
  {
   "cell_type": "code",
   "execution_count": 3,
   "id": "c4f1b9c9-244f-469f-b81d-b4d4760996da",
   "metadata": {},
   "outputs": [
    {
     "name": "stdout",
     "output_type": "stream",
     "text": [
      "Country\n",
      "Afghanistan                  321000000.00\n",
      "Albania                      102000000.00\n",
      "Algeria                     1959000000.00\n",
      "American Samoa                        NaN\n",
      "Andorra                        9000000.00\n",
      "                                 ...     \n",
      "Viet Nam                    2554000000.00\n",
      "Wallis and Futuna Islands            0.00\n",
      "Yemen                        344000000.00\n",
      "Zambia                       400000000.00\n",
      "Zimbabwe                     480000000.00\n",
      "Name: Energy Supply, Length: 227, dtype: float64\n"
     ]
    }
   ],
   "source": [
    "energy_table['Energy Supply'] = energy_table['Energy Supply'].replace('...', np.NaN)\n",
    "energy_table['Energy Supply'] = energy_table['Energy Supply'] * 1000000\n",
    "print(energy_table['Energy Supply'])"
   ]
  },
  {
   "cell_type": "markdown",
   "id": "5e889dbb-7bef-4a17-8569-d898bf3a613e",
   "metadata": {},
   "source": [
    "3. Перейменуйте наступний список країн:\n",
    "\"Republic of Korea\": \"South Korea\",\n",
    "\"United States of America\": \"United States\", \"\n",
    "United Kingdom of Great Britain and Northern Ireland\": \"United\n",
    "Kingdom\",\n",
    "\"China, Hong Kong Special Administrative Region\": \"Hong Kong\""
   ]
  },
  {
   "cell_type": "code",
   "execution_count": 4,
   "id": "ef698f71-d2da-4be3-9b46-9313518b6ade",
   "metadata": {},
   "outputs": [
    {
     "name": "stdout",
     "output_type": "stream",
     "text": [
      "Energy Supply              11007000000.00\n",
      "Energy Supply per Capita              221\n",
      "% Renewable                          2.28\n",
      "Name: South Korea, dtype: object \n",
      " Energy Supply              90838000000.00\n",
      "Energy Supply per Capita              286\n",
      "% Renewable                         11.57\n",
      "Name: United States, dtype: object \n",
      " Energy Supply              7920000000.00\n",
      "Energy Supply per Capita             124\n",
      "% Renewable                        10.60\n",
      "Name: United Kingdom, dtype: object \n",
      " Energy Supply              585000000.00\n",
      "Energy Supply per Capita             82\n",
      "% Renewable                        0.00\n",
      "Name: Hong Kong, dtype: object\n"
     ]
    }
   ],
   "source": [
    "new_names = {\"Republic of Korea\": \"South Korea\", \"United States of America20\": \"United States\", \"United Kingdom of Great Britain and Northern Ireland19\": \"United Kingdom\", \"China, Hong Kong Special Administrative Region3\": \"Hong Kong\"} \n",
    "energy_table.rename(index=new_names, inplace=True)\n",
    "print(energy_table.loc[\"South Korea\"], \"\\n\", energy_table.loc[\"United States\"], \"\\n\", energy_table.loc[\"United Kingdom\"], \"\\n\", energy_table.loc[\"Hong Kong\"]) "
   ]
  },
  {
   "cell_type": "markdown",
   "id": "ba64e802-5749-4158-b507-c8ec95356d2c",
   "metadata": {},
   "source": [
    "4. Існує також декілька країн, що мають в назві цифри та/або дужки.\n",
    "Обов’язково видаліть їх, напр. 'Bolivia (Plurinational State of)'\n",
    "повинна бути ‘Bolivia’, ‘Switzerland17’ повинна бути Switzerland’."
   ]
  },
  {
   "cell_type": "code",
   "execution_count": 5,
   "id": "d70cb712-98d3-4dd5-9c69-295c148ef748",
   "metadata": {},
   "outputs": [
    {
     "name": "stdout",
     "output_type": "stream",
     "text": [
      "Energy Supply              2000000.00\n",
      "Energy Supply per Capita           21\n",
      "% Renewable                      2.94\n",
      "Name: Micronesia, dtype: object\n"
     ]
    }
   ],
   "source": [
    "energy_table.index = energy_table.index.str.replace(r\" \\(.*\\)|[0-9]\", \"\", regex=True)\n",
    "print(energy_table.iloc[133])"
   ]
  },
  {
   "cell_type": "markdown",
   "id": "2abb3db0-6719-4b52-8088-4536f2037264",
   "metadata": {},
   "source": [
    "5. Далі, завантажте дані про ВВП з файлу „gpd.csv”, що містить дані\n",
    "Світового банку про ВВП країн від 1960 до 2015 року."
   ]
  },
  {
   "cell_type": "code",
   "execution_count": 6,
   "id": "2e4062b9-b9fd-4ca3-8027-c96f5ccdd398",
   "metadata": {},
   "outputs": [
    {
     "name": "stdout",
     "output_type": "stream",
     "text": [
      "Country Code                                           KOR\n",
      "Indicator Name    GDP at market prices (constant 2010 US$)\n",
      "Indicator Code                              NY.GDP.MKTP.KD\n",
      "1960                                        27576960757.43\n",
      "1961                                        28938253834.68\n",
      "1962                                        29649660482.42\n",
      "1963                                        32475783404.67\n",
      "1964                                        34931355042.46\n",
      "1965                                        36744341227.48\n",
      "1966                                        41410872518.01\n",
      "1967                                        43936951529.24\n",
      "1968                                        49077491649.41\n",
      "1969                                        55997453545.50\n",
      "1970                                        63203503772.42\n",
      "1971                                        69802723539.32\n",
      "1972                                        74347466779.72\n",
      "1973                                        85341610691.23\n",
      "1974                                        93348282252.28\n",
      "1975                                       100197661848.86\n",
      "1976                                       113679909958.45\n",
      "1977                                       127114323218.17\n",
      "1978                                       140204031456.71\n",
      "1979                                       151966733489.49\n",
      "1980                                       149093441974.14\n",
      "1981                                       160132393213.38\n",
      "1982                                       173409461822.28\n",
      "1983                                       194534213829.38\n",
      "1984                                       213713480107.14\n",
      "1985                                       229679939886.33\n",
      "1986                                       257792299501.02\n",
      "1987                                       289413124776.73\n",
      "1988                                       323159876101.54\n",
      "1989                                       344979833693.39\n",
      "1990                                       377053749283.03\n",
      "1991                                       413676560143.42\n",
      "1992                                       437525995578.94\n",
      "1993                                       465218740624.55\n",
      "1994                                       506027230599.14\n",
      "1995                                       551218621130.40\n",
      "1996                                       590828731339.99\n",
      "1997                                       624900292540.47\n",
      "1998                                       589194128884.46\n",
      "1999                                       652418133306.82\n",
      "2000                                       710034993718.36\n",
      "2001                                       742166345728.08\n",
      "2002                                       797327366677.53\n",
      "2003                                       820714629232.71\n",
      "2004                                       860928427357.70\n",
      "2005                                       894708567926.71\n",
      "2006                                       941019882149.12\n",
      "2007                                       992431619676.20\n",
      "2008                                      1020509638539.71\n",
      "2009                                      1027729932849.17\n",
      "2010                                      1094499338702.72\n",
      "2011                                      1134795571930.64\n",
      "2012                                      1160809426196.79\n",
      "2013                                      1194429021591.57\n",
      "2014                                      1234340240503.49\n",
      "2015                                      1266580410309.11\n",
      "Name: South Korea, dtype: object\n"
     ]
    }
   ],
   "source": [
    "gpd_table = pd.read_csv('gpd.csv', skiprows=4)\n",
    "gpd_rename = {\"Korea, Rep.\": \"South Korea\", \"Iran, Islamic Rep.\": \"Iran\", \"Hong Kong SAR, China\": \"Hong Kong\"}\n",
    "gpd_table.rename(columns={'Country Name': 'Country'}, inplace=True)\n",
    "gpd_table.set_index('Country', inplace=True)\n",
    "gpd_table.rename(index=gpd_rename, inplace=True)\n",
    "print(gpd_table.iloc[123])"
   ]
  },
  {
   "cell_type": "markdown",
   "id": "40966cbe-f57b-48b3-97a3-8133e53ab762",
   "metadata": {},
   "source": [
    "6. Завантажте дані з файлу „scimagojr.xlsx”, який класифікує країни на основі\n",
    "їхніх публікацій в журналах у галузі енергетичного машинобудування та\n",
    "енергетичних технологій."
   ]
  },
  {
   "cell_type": "code",
   "execution_count": 7,
   "id": "bec1ff5d-63ed-4b69-ac31-48f62faf8ec4",
   "metadata": {},
   "outputs": [
    {
     "name": "stdout",
     "output_type": "stream",
     "text": [
      "                    Rank  Documents  Citable documents  Citations  \\\n",
      "Country                                                             \n",
      "China                  1     127050             126767     597237   \n",
      "United States          2      96661              94747     792274   \n",
      "Japan                  3      30504              30287     223024   \n",
      "United Kingdom         4      20944              20357     206091   \n",
      "Russian Federation     5      18534              18301      34266   \n",
      "...                  ...        ...                ...        ...   \n",
      "Guyana               187          1                  1          0   \n",
      "Christmas Island     188          1                  1          0   \n",
      "Reunion              189          1                  1          2   \n",
      "Saint Lucia          190          1                  1          0   \n",
      "Mauritania           191          1                  1          1   \n",
      "\n",
      "                    Self-citations  Citations per document  H index  \n",
      "Country                                                              \n",
      "China                       411683                    4.70      138  \n",
      "United States               265436                    8.20      230  \n",
      "Japan                        61554                    7.31      134  \n",
      "United Kingdom               37874                    9.84      139  \n",
      "Russian Federation           12422                    1.85       57  \n",
      "...                            ...                     ...      ...  \n",
      "Guyana                           0                    0.00        0  \n",
      "Christmas Island                 0                    0.00        0  \n",
      "Reunion                          1                    2.00        1  \n",
      "Saint Lucia                      0                    0.00        0  \n",
      "Mauritania                       0                    1.00        1  \n",
      "\n",
      "[191 rows x 7 columns]\n"
     ]
    }
   ],
   "source": [
    "scimagojr_table = pd.read_excel('scimagojr.xlsx')\n",
    "scimagojr_table.set_index('Country', inplace=True) \n",
    "print(scimagojr_table)"
   ]
  },
  {
   "cell_type": "markdown",
   "id": "4d27de8d-7e44-431f-9beb-573f931ce1df",
   "metadata": {},
   "source": [
    "7. Приєднайте три набори даних із завдань 1-6 до нового набору даних\n",
    "(використовуючи перетин назв країн).\n",
    "- Використовуйте лише дані про ВВП за останні 10 років (2006-2015 рр.) і\n",
    "лише 15 найкращих країн за рейтингом Scimagojr (Rank від 1 до 15)\n",
    "- Індексом цього DataFrame повинна бути назва країни, а стовпцями мають\n",
    "бути ['Rank', 'Documents', 'Citable documents', 'Citations', 'Self-citations',\n",
    "'Citations per document', 'H index', 'Energy Supply', 'Energy Supply per Capita', '%\n",
    "Renewable', '2006', '2007', '2008', '2009', '2010', '2011', '2012', '2013', '2014',\n",
    "'2015'].\n",
    "Ви повинні отримати DataFrame з 15 рядками та 20 стовпцями."
   ]
  },
  {
   "cell_type": "code",
   "execution_count": 8,
   "id": "da863a73-c594-4994-be3f-81f68c886b14",
   "metadata": {},
   "outputs": [
    {
     "name": "stdout",
     "output_type": "stream",
     "text": [
      "                    Rank  Documents  Citable documents  Citations  \\\n",
      "Country                                                             \n",
      "China                  1     127050             126767     597237   \n",
      "United States          2      96661              94747     792274   \n",
      "Japan                  3      30504              30287     223024   \n",
      "United Kingdom         4      20944              20357     206091   \n",
      "Russian Federation     5      18534              18301      34266   \n",
      "Canada                 6      17899              17620     215003   \n",
      "Germany                7      17027              16831     140566   \n",
      "India                  8      15005              14841     128763   \n",
      "France                 9      13153              12973     130632   \n",
      "South Korea           10      11983              11923     114675   \n",
      "Italy                 11      10964              10794     111850   \n",
      "Spain                 12       9428               9330     123336   \n",
      "Iran                  13       8896               8819      57470   \n",
      "Australia             14       8831               8725      90765   \n",
      "Brazil                15       8668               8596      60702   \n",
      "\n",
      "                    Self-citations  Citations per document  H index  \\\n",
      "Country                                                               \n",
      "China                       411683                    4.70      138   \n",
      "United States               265436                    8.20      230   \n",
      "Japan                        61554                    7.31      134   \n",
      "United Kingdom               37874                    9.84      139   \n",
      "Russian Federation           12422                    1.85       57   \n",
      "Canada                       40930                   12.01      149   \n",
      "Germany                      27426                    8.26      126   \n",
      "India                        37209                    8.58      115   \n",
      "France                       28601                    9.93      114   \n",
      "South Korea                  22595                    9.57      104   \n",
      "Italy                        26661                   10.20      106   \n",
      "Spain                        23964                   13.08      115   \n",
      "Iran                         19125                    6.46       72   \n",
      "Australia                    15606                   10.28      107   \n",
      "Brazil                       14396                    7.00       86   \n",
      "\n",
      "                     Energy Supply Energy Supply per Capita  % Renewable  \\\n",
      "Country                                                                    \n",
      "China              127191000000.00                       93        19.75   \n",
      "United States       90838000000.00                      286        11.57   \n",
      "Japan               18984000000.00                      149        10.23   \n",
      "United Kingdom       7920000000.00                      124        10.60   \n",
      "Russian Federation  30709000000.00                      214        17.29   \n",
      "Canada              10431000000.00                      296        61.95   \n",
      "Germany             13261000000.00                      165        17.90   \n",
      "India               33195000000.00                       26        14.97   \n",
      "France              10597000000.00                      166        17.02   \n",
      "South Korea         11007000000.00                      221         2.28   \n",
      "Italy                6530000000.00                      109        33.67   \n",
      "Spain                4923000000.00                      106        37.97   \n",
      "Iran                 9172000000.00                      119         5.71   \n",
      "Australia            5386000000.00                      231        11.81   \n",
      "Brazil              12149000000.00                       59        69.65   \n",
      "\n",
      "                                2006              2007              2008  \\\n",
      "Country                                                                    \n",
      "China               3992331462570.89  4559041383517.93  4997775145605.96   \n",
      "United States      14792303791800.00 15055395304800.00 15011490541400.00   \n",
      "Japan               5496541517363.31  5617035943770.73  5558526873313.82   \n",
      "United Kingdom      2419630700401.73  2482203235475.90  2470614405284.30   \n",
      "Russian Federation  1385792607182.58  1504071117741.30  1583004071092.11   \n",
      "Canada              1564468853329.45  1596739898466.32  1612713061250.24   \n",
      "Germany             3332890754966.89  3441560834437.09  3478809377483.44   \n",
      "India               1265894322131.09  1374865195244.50  1428360609657.80   \n",
      "France              2607839735099.34  2669423841059.60  2674637086092.71   \n",
      "South Korea          941019882149.12   992431619676.20  1020509638539.71   \n",
      "Italy               2202169663576.16  2234626814701.99  2211154176556.29   \n",
      "Spain               1414822516556.29  1468145695364.24  1484529801324.50   \n",
      "Iran                 389552313541.27   425064554419.09   428990857822.09   \n",
      "Australia           1021939264106.67  1060340245233.55  1099643871866.03   \n",
      "Brazil              1845079664513.56  1957118136056.33  2056809174052.93   \n",
      "\n",
      "                                2009              2010              2011  \\\n",
      "Country                                                                    \n",
      "China               5459247267275.14  6039658508485.59  6612490294273.65   \n",
      "United States      14594842181900.00 14964372000000.00 15204019634600.00   \n",
      "Japan               5251308399909.32  5498717815809.77  5473738114222.05   \n",
      "United Kingdom      2367047611711.99  2403504326328.80  2450911011124.85   \n",
      "Russian Federation  1459199142720.26  1524917468442.01  1589942641764.29   \n",
      "Canada              1565144676082.31  1613406134731.12  1664086754804.89   \n",
      "Germany             3283339933774.83  3417298013245.03  3542371125827.81   \n",
      "India               1549482541544.70  1708458876829.92  1821872415623.62   \n",
      "France              2595966887417.22  2646994701986.75  2702031788079.47   \n",
      "South Korea         1027729932849.17  1094499338702.72  1134795571930.64   \n",
      "Italy               2089937511523.18  2125184794172.19  2137439133774.83   \n",
      "Spain               1431475496688.74  1431672847682.12  1417354966887.42   \n",
      "Iran                 438920754763.99   467790215915.48   485330901134.45   \n",
      "Australia           1119653852349.08  1142250506474.06  1169431057881.91   \n",
      "Brazil              2054214562458.19  2208872214643.02  2295244758549.53   \n",
      "\n",
      "                                2012              2013              2014  \\\n",
      "Country                                                                    \n",
      "China               7124977970399.61  7672447738017.42  8230120617793.52   \n",
      "United States      15542161722300.00 15773666098800.00 16156618476000.00   \n",
      "Japan               5569101602926.18  5644658523313.42  5642884448582.19   \n",
      "United Kingdom      2479808627472.19  2533370110012.36  2605643189894.93   \n",
      "Russian Federation  1645875899596.27  1666934123163.16  1678708855070.86   \n",
      "Canada              1693132927878.08  1730687770724.13  1773485821199.77   \n",
      "Germany             3556723774834.44  3567317390728.48  3624386278145.70   \n",
      "India               1924235460945.25  2051981849791.69  2200616575310.97   \n",
      "France              2706968211920.53  2722566887417.22  2729631788079.47   \n",
      "South Korea         1160809426196.79  1194429021591.57  1234340240503.49   \n",
      "Italy               2077184315761.59  2040871178145.70  2033867707549.67   \n",
      "Spain               1380215894039.73  1357139072847.68  1375605298013.24   \n",
      "Iran                 453256899727.83   444592553889.77   463902735245.89   \n",
      "Australia           1211913217353.49  1241484494446.53  1272519759757.29   \n",
      "Brazil              2339209222185.09  2409739667075.82  2412230647720.45   \n",
      "\n",
      "                                2015  \n",
      "Country                               \n",
      "China               8797998940421.28  \n",
      "United States      16548573278300.00  \n",
      "Japan               5669563143140.97  \n",
      "United Kingdom      2666333396477.13  \n",
      "Russian Federation  1616148858033.77  \n",
      "Canada              1792608764608.81  \n",
      "Germany             3685555907284.77  \n",
      "India               2367206118959.06  \n",
      "France              2761185430463.58  \n",
      "South Korea         1266580410309.11  \n",
      "Italy               2049315603576.16  \n",
      "Spain               1419821192052.98  \n",
      "Iran                             NaN  \n",
      "Australia           1301251030445.66  \n",
      "Brazil              2319423390494.13  \n",
      "\n",
      " (15, 20)\n"
     ]
    }
   ],
   "source": [
    "merged_table = pd.merge(scimagojr_table, energy_table, how='inner', left_index=True, right_index=True)\n",
    "merged_table = pd.merge(merged_table, gpd_table, how='inner', left_index=True, right_index=True)\n",
    "necessary_columns = ['Rank', 'Documents', 'Citable documents', 'Citations', 'Self-citations','Citations per document', 'H index', 'Energy Supply', 'Energy Supply per Capita', '% Renewable', '2006', '2007', '2008', '2009', '2010', '2011', '2012', '2013', '2014', '2015']\n",
    "merged_table = merged_table[necessary_columns]\n",
    "merged_table = merged_table.head(15)\n",
    "print(merged_table)\n",
    "print(\"\\n\", merged_table.shape)"
   ]
  },
  {
   "cell_type": "markdown",
   "id": "0e0c805b-4b19-4fe1-9b81-fa8558e86352",
   "metadata": {},
   "source": [
    "8. Створіть функцію, щоб визначити середній ВВП країн за останні 10 років.\n",
    "Ця функція повинна повертати об’єкт Series з 15 країнами та їх середній\n",
    "ВВП, відсортований за спаданням."
   ]
  },
  {
   "cell_type": "code",
   "execution_count": 9,
   "id": "099b2253-0bf7-4b55-9288-9969734b86f9",
   "metadata": {},
   "outputs": [
    {
     "name": "stdout",
     "output_type": "stream",
     "text": [
      "Country\n",
      "United States        15364344302990.00\n",
      "China                 6348608932836.10\n",
      "Japan                 5542207638235.18\n",
      "Germany               3493025339072.85\n",
      "France                2681724635761.59\n",
      "United Kingdom        2487906661418.42\n",
      "Brazil                2189794143774.91\n",
      "Italy                 2120175089933.78\n",
      "India                 1769297396603.86\n",
      "Canada                1660647466307.51\n",
      "Russian Federation    1565459478480.66\n",
      "Spain                 1418078278145.69\n",
      "Australia             1164042729991.43\n",
      "South Korea           1106714508244.85\n",
      "Iran                   444155754051.09\n",
      "dtype: float64\n"
     ]
    }
   ],
   "source": [
    "def average_GPD(table):\n",
    "    return table.loc[:, '2006':'2015'].mean(axis=1).sort_values(ascending=False)\n",
    "print(average_GPD(merged_table))"
   ]
  },
  {
   "cell_type": "markdown",
   "id": "a144f608-b8eb-4ed5-9aaf-10b0d03c5571",
   "metadata": {},
   "source": [
    "9. Створіть функцію, щоб визначити, наскільки змінився ВВП за останні 10\n",
    "років для країни з 5-м середнім ВВП."
   ]
  },
  {
   "cell_type": "code",
   "execution_count": 10,
   "id": "c20efc50-fdf5-4471-b84c-b290683ebcb8",
   "metadata": {},
   "outputs": [
    {
     "name": "stdout",
     "output_type": "stream",
     "text": [
      "('France', 153345695364.24023)\n"
     ]
    }
   ],
   "source": [
    "def GPD_change(table):\n",
    "    country_average_GPD = average_GPD(table)\n",
    "    fifth_country = country_average_GPD.index[4]\n",
    "    GPD_2015 = table.loc[fifth_country, '2015']\n",
    "    GPD_2006 = table.loc[fifth_country, '2006']\n",
    "    GPD_change = GPD_2015 - GPD_2006\n",
    "    return fifth_country, GPD_change\n",
    "print(GPD_change(merged_table))"
   ]
  },
  {
   "cell_type": "markdown",
   "id": "3e05079b-ebe9-447f-915b-e9694935d7f5",
   "metadata": {},
   "source": [
    "10. Створіть функцію, щоб визначити, в якій країні встановлено максимум\n",
    "поновлюваних джерел енергії (% Renewable) та який саме відсоток."
   ]
  },
  {
   "cell_type": "code",
   "execution_count": 11,
   "id": "7c2a40ad-bf4b-4e10-9e4e-782e8b9eda0c",
   "metadata": {},
   "outputs": [
    {
     "name": "stdout",
     "output_type": "stream",
     "text": [
      "('Brazil', 69.64803)\n"
     ]
    }
   ],
   "source": [
    "def most_renewable_country(table):\n",
    "    max_renewable = table['% Renewable'].idxmax()\n",
    "    max_percentage = table.loc[max_renewable, '% Renewable']\n",
    "    return max_renewable, max_percentage\n",
    "print(most_renewable_country(merged_table))"
   ]
  },
  {
   "cell_type": "markdown",
   "id": "bacdbdba-3691-43ce-95d8-88b19d11e206",
   "metadata": {},
   "source": [
    "11. Створіть стовпець, в якому оцінюється чисельність населення. Для\n",
    "пошуку оцінки використовуйте значення енергопостачання (Energy Supply)\n",
    "та енергопостачання на душу населення (Energy Supply per capita). Яка країна\n",
    "є шостою за цією оцінкою?"
   ]
  },
  {
   "cell_type": "code",
   "execution_count": 12,
   "id": "675f200e-b62b-4dd4-b081-d7fc891645bd",
   "metadata": {},
   "outputs": [
    {
     "name": "stdout",
     "output_type": "stream",
     "text": [
      "('Japan', 127409395.97315437)\n"
     ]
    }
   ],
   "source": [
    "def population_estimate(table):\n",
    "    table['Population Estimate'] = table['Energy Supply'] / table['Energy Supply per Capita']\n",
    "    sixth_country = table['Population Estimate'].sort_values(ascending=False).index[5]\n",
    "    population = table.loc[sixth_country, 'Population Estimate']\n",
    "    return sixth_country, population\n",
    "print(population_estimate(merged_table))"
   ]
  },
  {
   "cell_type": "markdown",
   "id": "a73e6dfe-d070-4612-9a08-4ce02e0dd131",
   "metadata": {},
   "source": [
    "12. Створіть стовпець, в якому оцінюється кількість цитованих документів на\n",
    "одну особу. Який взаємозв'язок між кількістю цитованих документів на\n",
    "душу населення та енергозабезпеченням на душу населення? Використовуйте\n",
    "метод .corr () (кореляція Пірсона)."
   ]
  },
  {
   "cell_type": "code",
   "execution_count": 13,
   "id": "908cdf23-dae6-4380-b0dc-17951ff21393",
   "metadata": {},
   "outputs": [
    {
     "name": "stdout",
     "output_type": "stream",
     "text": [
      "0.7940010435442945\n"
     ]
    }
   ],
   "source": [
    "def citable_documents(table):\n",
    "    table['Citable documents per Capita'] = table['Citable documents'] / (table['Energy Supply'] / table['Energy Supply per Capita'])\n",
    "    used_columns = table[['Citable documents per Capita', 'Energy Supply per Capita']]\n",
    "    correlation = used_columns.corr().iloc[0, 1]\n",
    "    return correlation if not pd.isna(correlation) else np.nan\n",
    "print(citable_documents(merged_table))"
   ]
  },
  {
   "cell_type": "markdown",
   "id": "c4ec8a42-ef07-47fa-a688-3eb49ae01e7d",
   "metadata": {},
   "source": [
    "13. Створіть новий стовпчик в який занесіть 1, якщо значення %\n",
    "відновлюваної енергії (% Renewable) країни дорівнює або вище медіани для\n",
    "всіх країн, і 0, якщо значення (% Renewable) нижче медіани."
   ]
  },
  {
   "cell_type": "code",
   "execution_count": 14,
   "id": "334fb9b4-1db6-4fd0-bfef-97409088dba8",
   "metadata": {},
   "outputs": [
    {
     "name": "stdout",
     "output_type": "stream",
     "text": [
      "Country\n",
      "China                 1\n",
      "United States         0\n",
      "Japan                 0\n",
      "United Kingdom        0\n",
      "Russian Federation    1\n",
      "Canada                1\n",
      "Germany               1\n",
      "India                 0\n",
      "France                1\n",
      "South Korea           0\n",
      "Italy                 1\n",
      "Spain                 1\n",
      "Iran                  0\n",
      "Australia             0\n",
      "Brazil                1\n",
      "Name: Bigger than average renewable, dtype: int32\n"
     ]
    }
   ],
   "source": [
    "def is_mostly_renewable(table):\n",
    "    median_renewable = table['% Renewable'].median()\n",
    "    table['Bigger than average renewable'] = table['% Renewable'] >= median_renewable\n",
    "    return table['Bigger than average renewable'].astype(int)\n",
    "print(is_mostly_renewable(merged_table))"
   ]
  },
  {
   "cell_type": "markdown",
   "id": "ab7bec4b-48c4-4dc9-9802-e844b0705041",
   "metadata": {},
   "source": [
    "14. Використайте наступний словник, щоб згрупувати країни за\n",
    "континентами, потім створіть DataFrame, який відображає розмір вибірки\n",
    "(кількість країн на кожному континенті), а також суму, середнє та стандартне\n",
    "відхилення для оцінки кількості населення для кожної країни."
   ]
  },
  {
   "cell_type": "code",
   "execution_count": 15,
   "id": "f3da0032-47a1-4a38-802d-e97a0f6c2742",
   "metadata": {},
   "outputs": [
    {
     "name": "stdout",
     "output_type": "stream",
     "text": [
      "               size             sum           mean            std\n",
      "Continent                                                        \n",
      "Asia              5 199549000000.00 39909800000.00 49702036464.31\n",
      "Australia         1   5386000000.00  5386000000.00            NaN\n",
      "Europe            6  73940000000.00 12323333333.33  9482712410.84\n",
      "North America     2 101269000000.00 50634500000.00 56856334954.87\n",
      "South America     1  12149000000.00 12149000000.00            NaN\n"
     ]
    }
   ],
   "source": [
    "ContinentDict = {'China': 'Asia', 'United States': 'North America', 'Japan': 'Asia', 'United Kingdom': 'Europe', 'Russian Federation': 'Europe', 'Canada': 'North America', 'Germany': 'Europe', 'India': 'Asia', 'France': 'Europe', 'South Korea': 'Asia', 'Italy': 'Europe', 'Spain': 'Europe', 'Iran': 'Asia', 'Australia': 'Australia', 'Brazil': 'South America'}\n",
    "\n",
    "def assign_continent(table, continent_dict):\n",
    "    table['Continent'] = pd.Series(continent_dict)\n",
    "    resulting_table = table.groupby('Continent')['Energy Supply'].agg(['size', 'sum', 'mean', 'std'])\n",
    "    return resulting_table\n",
    "    \n",
    "print(assign_continent(merged_table, ContinentDict))\n"
   ]
  },
  {
   "cell_type": "markdown",
   "id": "c5c8754b-301e-43c0-b7fb-4443a6b1f1ff",
   "metadata": {},
   "source": [
    "15. Створіть бульбашкову діаграму, що відображає залежність % поновлюван\n",
    "их джерел від рейтингу країни (% Renewable vs. Rank). Розмір бульбашки від\n",
    "повідає ВВП країн 2015 року, а колір відповідає континенту."
   ]
  },
  {
   "cell_type": "code",
   "execution_count": 16,
   "id": "6135f5a8-8f95-4b6e-b75c-1a0c0a59de54",
   "metadata": {},
   "outputs": [
    {
     "data": {
      "image/png": "[encoded data removed]",
      "text/plain": [
       "<Figure size 3000x1000 with 1 Axes>"
      ]
     },
     "metadata": {},
     "output_type": "display_data"
    }
   ],
   "source": [
    "def bubble_chart(table):\n",
    "    plt.figure(figsize=(30, 10))\n",
    "    sns.scatterplot(x='Rank', y='% Renewable', size='2015', hue='Continent', data=table, sizes=(50, 50000), alpha = 0.5, legend=False)\n",
    "    plt.title('Bubble chart')\n",
    "    plt.xlabel('Rank')\n",
    "    plt.ylabel('% Renewable')\n",
    "    for index, i in table.iterrows(): # Я сподіваюсь тут for допустимий, це ж не в середині структур даних, а щоб зручніше побудувати графік\n",
    "        plt.annotate(index, (i['Rank'], i['% Renewable']), textcoords=\"offset points\", xytext=(0, 0), ha='center')\n",
    "    plt.show()\n",
    "\n",
    "bubble_chart(merged_table)"
   ]
  },
  {
   "cell_type": "code",
   "execution_count": null,
   "id": "3dae2085-f9eb-4eec-99c6-6d99e83bac23",
   "metadata": {},
   "outputs": [],
   "source": []
  }
 ],
 "metadata": {
  "kernelspec": {
   "display_name": "Python 3 (ipykernel)",
   "language": "python",
   "name": "python3"
  },
  "language_info": {
   "codemirror_mode": {
    "name": "ipython",
    "version": 3
   },
   "file_extension": ".py",
   "mimetype": "text/x-python",
   "name": "python",
   "nbconvert_exporter": "python",
   "pygments_lexer": "ipython3",
   "version": "3.8.2"
  }
 },
 "nbformat": 4,
 "nbformat_minor": 5
}
